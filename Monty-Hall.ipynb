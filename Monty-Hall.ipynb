{
  "nbformat": 4,
  "nbformat_minor": 0,
  "metadata": {
    "colab": {
      "name": "Monty-Hall.ipynb",
      "provenance": [],
      "authorship_tag": "ABX9TyPokHldWXTBVdaoYxD/YfVK",
      "include_colab_link": true
    },
    "kernelspec": {
      "name": "python3",
      "display_name": "Python 3"
    }
  },
  "cells": [
    {
      "cell_type": "markdown",
      "metadata": {
        "id": "view-in-github",
        "colab_type": "text"
      },
      "source": [
        "<a href=\"https://colab.research.google.com/github/Pablo-R-Navarro/deep-01-pep/blob/main/Monty-Hall.ipynb\" target=\"_parent\"><img src=\"https://colab.research.google.com/assets/colab-badge.svg\" alt=\"Open In Colab\"/></a>"
      ]
    },
    {
      "cell_type": "markdown",
      "metadata": {
        "id": "2nmBH7yqMjMd"
      },
      "source": [
        "<img src=https://www.itba.edu.ar/wp-content/uploads/2020/03/Marca-ITBA-Color-ALTA.png alt=\"ITBA\" width=\"150\"/>\n",
        "\n",
        "# Diplomatura en Deep Learning\n",
        "\n",
        "_2021 Q1_\n",
        "\n",
        "_Pablo Navarro_ [in](https://www.linkedin.com/in/pablo-r-navarro) [@](mailto:pablo.r.navarro@outlook.com)\n"
      ]
    },
    {
      "cell_type": "markdown",
      "metadata": {
        "id": "RSxPxcbpM6v4"
      },
      "source": [
        "## Monty Hall Problem\n",
        "\n",
        "Reference [Youtube](<https://www.youtube.com/watch?v=4Lb-6rxZxx0>)\n",
        "\n"
      ]
    },
    {
      "cell_type": "code",
      "metadata": {
        "colab": {
          "base_uri": "https://localhost:8080/"
        },
        "cellView": "form",
        "id": "uU8LOP9AMem1",
        "outputId": "bb335cb2-6264-4525-dcb6-d30950e758ad"
      },
      "source": [
        "#@title Python Environment\n",
        "import sys\n",
        "print(f'Python: {sys.version_info.major}.{sys.version_info.minor}.{sys.version_info.micro} on {sys.platform}')\n",
        "print(f'Environment: {sys.base_prefix}')"
      ],
      "execution_count": 1,
      "outputs": [
        {
          "output_type": "stream",
          "text": [
            "Python: 3.7.10 on linux\n",
            "Environment: /usr\n"
          ],
          "name": "stdout"
        }
      ]
    },
    {
      "cell_type": "code",
      "metadata": {
        "id": "e_2j5IEsNS39"
      },
      "source": [
        "#@title Imports\n",
        "import numpy as np\n",
        "import pandas as pd\n",
        "from matplotlib import pyplot as plt\n",
        "%matplotlib inline\n",
        "%config InlineBackend.figure_format='retina'\n",
        "\n",
        "import seaborn as sns"
      ],
      "execution_count": 2,
      "outputs": []
    },
    {
      "cell_type": "markdown",
      "metadata": {
        "id": "mC-JqCkpWl4x"
      },
      "source": [
        "`samples`: Number of samples.\n",
        "\n",
        "`Car is at Door`: Door where the car is located (0, 1, 2).\n",
        "\n",
        "`First Choice`: Door selected by the Guest (0, 1, 2).\n",
        "\n",
        "`Chose to Change`: The Guest selects to change (1) or not to change (0) the door.\n",
        "\n",
        "`Change`: Change Strategy - The Guest wins when his first choice was a Door with a Goat, the Presenter discards the one whith the other Goat, and therefore the Guest chooses the Door where the Car is.\n",
        "\n",
        "`No Change`: Don't Change Strategy - Guest wins if he choose the Door where the Car is.\n",
        "\n",
        "`Random`: Strategy of deciding to change or not to change Randomly - The Guest wins according to whether they initially choose a Door with a Goat and then choose to Change, or if they initially choose the Door that the Car has and then choose No Change.\n"
      ]
    },
    {
      "cell_type": "code",
      "metadata": {
        "colab": {
          "base_uri": "https://localhost:8080/",
          "height": 343
        },
        "id": "M6THCyFeNa0F",
        "outputId": "3a64b771-c6d6-40c5-d563-45a3ee12a2fd"
      },
      "source": [
        "\n",
        "samples = 1_000_000\n",
        "\n",
        "mh = pd.DataFrame( {'Car is at Door': np.random.choice(3, samples), \n",
        "                    'First Choice': np.random.choice(3, samples), \n",
        "                    'Chose to Change': np.random.choice(2, samples)})\n",
        "\n",
        "mh['Change'] = (mh['Car is at Door'] != mh['First Choice'])\n",
        "\n",
        "mh['No Change'] = (mh['Car is at Door'] == mh['First Choice'])\n",
        "\n",
        "mh['Random'] = (mh['No Change'] & ~ mh['Chose to Change']) | (mh['Change'] & mh['Chose to Change'])\n",
        "\n",
        "mh.head(10)"
      ],
      "execution_count": 3,
      "outputs": [
        {
          "output_type": "execute_result",
          "data": {
            "text/html": [
              "<div>\n",
              "<style scoped>\n",
              "    .dataframe tbody tr th:only-of-type {\n",
              "        vertical-align: middle;\n",
              "    }\n",
              "\n",
              "    .dataframe tbody tr th {\n",
              "        vertical-align: top;\n",
              "    }\n",
              "\n",
              "    .dataframe thead th {\n",
              "        text-align: right;\n",
              "    }\n",
              "</style>\n",
              "<table border=\"1\" class=\"dataframe\">\n",
              "  <thead>\n",
              "    <tr style=\"text-align: right;\">\n",
              "      <th></th>\n",
              "      <th>Car is at Door</th>\n",
              "      <th>First Choice</th>\n",
              "      <th>Chose to Change</th>\n",
              "      <th>Change</th>\n",
              "      <th>No Change</th>\n",
              "      <th>Random</th>\n",
              "    </tr>\n",
              "  </thead>\n",
              "  <tbody>\n",
              "    <tr>\n",
              "      <th>0</th>\n",
              "      <td>2</td>\n",
              "      <td>1</td>\n",
              "      <td>0</td>\n",
              "      <td>True</td>\n",
              "      <td>False</td>\n",
              "      <td>False</td>\n",
              "    </tr>\n",
              "    <tr>\n",
              "      <th>1</th>\n",
              "      <td>0</td>\n",
              "      <td>2</td>\n",
              "      <td>1</td>\n",
              "      <td>True</td>\n",
              "      <td>False</td>\n",
              "      <td>True</td>\n",
              "    </tr>\n",
              "    <tr>\n",
              "      <th>2</th>\n",
              "      <td>1</td>\n",
              "      <td>2</td>\n",
              "      <td>0</td>\n",
              "      <td>True</td>\n",
              "      <td>False</td>\n",
              "      <td>False</td>\n",
              "    </tr>\n",
              "    <tr>\n",
              "      <th>3</th>\n",
              "      <td>0</td>\n",
              "      <td>0</td>\n",
              "      <td>1</td>\n",
              "      <td>False</td>\n",
              "      <td>True</td>\n",
              "      <td>False</td>\n",
              "    </tr>\n",
              "    <tr>\n",
              "      <th>4</th>\n",
              "      <td>2</td>\n",
              "      <td>0</td>\n",
              "      <td>0</td>\n",
              "      <td>True</td>\n",
              "      <td>False</td>\n",
              "      <td>False</td>\n",
              "    </tr>\n",
              "    <tr>\n",
              "      <th>5</th>\n",
              "      <td>2</td>\n",
              "      <td>0</td>\n",
              "      <td>1</td>\n",
              "      <td>True</td>\n",
              "      <td>False</td>\n",
              "      <td>True</td>\n",
              "    </tr>\n",
              "    <tr>\n",
              "      <th>6</th>\n",
              "      <td>1</td>\n",
              "      <td>0</td>\n",
              "      <td>1</td>\n",
              "      <td>True</td>\n",
              "      <td>False</td>\n",
              "      <td>True</td>\n",
              "    </tr>\n",
              "    <tr>\n",
              "      <th>7</th>\n",
              "      <td>2</td>\n",
              "      <td>1</td>\n",
              "      <td>0</td>\n",
              "      <td>True</td>\n",
              "      <td>False</td>\n",
              "      <td>False</td>\n",
              "    </tr>\n",
              "    <tr>\n",
              "      <th>8</th>\n",
              "      <td>2</td>\n",
              "      <td>0</td>\n",
              "      <td>1</td>\n",
              "      <td>True</td>\n",
              "      <td>False</td>\n",
              "      <td>True</td>\n",
              "    </tr>\n",
              "    <tr>\n",
              "      <th>9</th>\n",
              "      <td>0</td>\n",
              "      <td>1</td>\n",
              "      <td>0</td>\n",
              "      <td>True</td>\n",
              "      <td>False</td>\n",
              "      <td>False</td>\n",
              "    </tr>\n",
              "  </tbody>\n",
              "</table>\n",
              "</div>"
            ],
            "text/plain": [
              "   Car is at Door  First Choice  Chose to Change  Change  No Change  Random\n",
              "0               2             1                0    True      False   False\n",
              "1               0             2                1    True      False    True\n",
              "2               1             2                0    True      False   False\n",
              "3               0             0                1   False       True   False\n",
              "4               2             0                0    True      False   False\n",
              "5               2             0                1    True      False    True\n",
              "6               1             0                1    True      False    True\n",
              "7               2             1                0    True      False   False\n",
              "8               2             0                1    True      False    True\n",
              "9               0             1                0    True      False   False"
            ]
          },
          "metadata": {
            "tags": []
          },
          "execution_count": 3
        }
      ]
    },
    {
      "cell_type": "code",
      "metadata": {
        "colab": {
          "base_uri": "https://localhost:8080/",
          "height": 136
        },
        "cellView": "form",
        "id": "ISan5aIsQkF_",
        "outputId": "6559db7a-8afe-46c8-902a-06ab2bf56bbc"
      },
      "source": [
        "#@title Results\n",
        "results = pd.DataFrame({'Strategy': ['Change', 'No Change', 'Random'],\n",
        "                        'Model': [mh['Change'].mean(), mh['No Change'].mean(), mh['Random'].mean()],\n",
        "                        'Theory': [2./3., 1./3., 1./2.] })\n",
        "\n",
        "results['Error'] = (results['Model'] - results['Theory'])*100 / results['Theory']\n",
        "\n",
        "results"
      ],
      "execution_count": 4,
      "outputs": [
        {
          "output_type": "execute_result",
          "data": {
            "text/html": [
              "<div>\n",
              "<style scoped>\n",
              "    .dataframe tbody tr th:only-of-type {\n",
              "        vertical-align: middle;\n",
              "    }\n",
              "\n",
              "    .dataframe tbody tr th {\n",
              "        vertical-align: top;\n",
              "    }\n",
              "\n",
              "    .dataframe thead th {\n",
              "        text-align: right;\n",
              "    }\n",
              "</style>\n",
              "<table border=\"1\" class=\"dataframe\">\n",
              "  <thead>\n",
              "    <tr style=\"text-align: right;\">\n",
              "      <th></th>\n",
              "      <th>Strategy</th>\n",
              "      <th>Model</th>\n",
              "      <th>Theory</th>\n",
              "      <th>Error</th>\n",
              "    </tr>\n",
              "  </thead>\n",
              "  <tbody>\n",
              "    <tr>\n",
              "      <th>0</th>\n",
              "      <td>Change</td>\n",
              "      <td>0.666163</td>\n",
              "      <td>0.666667</td>\n",
              "      <td>-0.07555</td>\n",
              "    </tr>\n",
              "    <tr>\n",
              "      <th>1</th>\n",
              "      <td>No Change</td>\n",
              "      <td>0.333837</td>\n",
              "      <td>0.333333</td>\n",
              "      <td>0.15110</td>\n",
              "    </tr>\n",
              "    <tr>\n",
              "      <th>2</th>\n",
              "      <td>Random</td>\n",
              "      <td>0.500025</td>\n",
              "      <td>0.500000</td>\n",
              "      <td>0.00500</td>\n",
              "    </tr>\n",
              "  </tbody>\n",
              "</table>\n",
              "</div>"
            ],
            "text/plain": [
              "    Strategy     Model    Theory    Error\n",
              "0     Change  0.666163  0.666667 -0.07555\n",
              "1  No Change  0.333837  0.333333  0.15110\n",
              "2     Random  0.500025  0.500000  0.00500"
            ]
          },
          "metadata": {
            "tags": []
          },
          "execution_count": 4
        }
      ]
    },
    {
      "cell_type": "markdown",
      "metadata": {
        "id": "I_GlrOGRZTLS"
      },
      "source": [
        "The probability of obtaining the car following the Change doors strategy coincides with $\\frac{2}{3}$ as indicated by the theory, while the probability of obtaining it following the strategy of Not Changing doors remains at $\\frac{1}{3}$ as it was originally at the time of make the first choice.\n",
        "\n",
        "The probability of obtaining the car by making a random choice coincides with the average of both probabilities $(0.5 \\frac{1}{3} + 0.5 \\frac{2}{3})= \\frac{1}{2}$."
      ]
    },
    {
      "cell_type": "code",
      "metadata": {
        "id": "-D-_YIfiQ30T"
      },
      "source": [
        "#@title Convergence Test\n",
        "cum = np.arange(1, samples + 1)\n",
        "mh['Cum Change'] = mh['Change'].cumsum() / cum\n",
        "mh['Cum No Change'] = mh['No Change'].cumsum() / cum\n",
        "mh['Cum Random'] = mh['Random'].cumsum() / cum"
      ],
      "execution_count": 5,
      "outputs": []
    },
    {
      "cell_type": "code",
      "metadata": {
        "colab": {
          "base_uri": "https://localhost:8080/",
          "height": 495
        },
        "cellView": "form",
        "id": "UFVo72seRHp-",
        "outputId": "2588749d-c4c7-4eac-f90e-69edac390133"
      },
      "source": [
        "#@title\n",
        "#&title\n",
        "data= pd.DataFrame(mh, columns=['Cum Change', 'Cum No Change', 'Cum Random'])\n",
        "plt.figure(figsize=(16,8))\n",
        "sns.lineplot(data=data, palette='cividis', dashes=False)\n",
        "plt.show()"
      ],
      "execution_count": 6,
      "outputs": [
        {
          "output_type": "display_data",
          "data": {
            "image/png": "[encoded data removed]",
            "text/plain": [
              "<Figure size 1152x576 with 1 Axes>"
            ]
          },
          "metadata": {
            "tags": [],
            "image/png": {
              "width": 930,
              "height": 478
            },
            "needs_background": "light"
          }
        }
      ]
    },
    {
      "cell_type": "code",
      "metadata": {
        "id": "yMHH70SwRLLd"
      },
      "source": [
        ""
      ],
      "execution_count": 6,
      "outputs": []
    }
  ]
}